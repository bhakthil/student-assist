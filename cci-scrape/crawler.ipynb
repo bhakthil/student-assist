{
 "cells": [
  {
   "cell_type": "code",
   "execution_count": 214,
   "metadata": {},
   "outputs": [],
   "source": [
    "from bs4 import BeautifulSoup\n",
    "import requests\n",
    "import json\n",
    "import sys\n",
    "import pandas as pd\n",
    "import os"
   ]
  },
  {
   "cell_type": "code",
   "execution_count": 148,
   "metadata": {},
   "outputs": [],
   "source": [
    "cci_root_url = \"https://spaces.charlotte.edu/display/ACCI\""
   ]
  },
  {
   "cell_type": "code",
   "execution_count": 141,
   "metadata": {},
   "outputs": [],
   "source": [
    "def page_available(url: str) -> int:\n",
    "    return requests.get(url).status_code"
   ]
  },
  {
   "cell_type": "code",
   "execution_count": 142,
   "metadata": {},
   "outputs": [],
   "source": [
    "def create_soup(url: str) -> str:\n",
    "    data = requests.get(url).text\n",
    "    soup = BeautifulSoup(data, 'html.parser')\n",
    "    return data, soup"
   ]
  },
  {
   "cell_type": "code",
   "execution_count": 143,
   "metadata": {},
   "outputs": [],
   "source": [
    "if page_available(cci_root_url) == 200:\n",
    "    data, soup = create_soup(cci_root_url)\n",
    "else:\n",
    "    sys.exit()"
   ]
  },
  {
   "cell_type": "code",
   "execution_count": 180,
   "metadata": {},
   "outputs": [],
   "source": [
    "# root url for appending to qa links since they do not use the same link structure as the base-cci webpage\n",
    "root_url = 'https://spaces.charlotte.edu'\n",
    "topics = {}\n",
    "# loop through each topic on root page\n",
    "for i in soup.find_all('ul', {'class':'labelList'}):\n",
    "    # find respective link for each topic\n",
    "    for j in i.find_all('a'):\n",
    "        # dict of question answer pairs\n",
    "        qa = {}\n",
    "        sub_link = root_url+j.get('href')\n",
    "        # create soup object for each list of questions page\n",
    "        sub_data, sub_soup = create_soup(sub_link)\n",
    "        # loop through each question and store the link, question, and answer\n",
    "        for idx, list_item in enumerate(sub_soup.find_all('div',{'class':'details'})):\n",
    "            question_link = root_url + list_item.find('a').get('href')\n",
    "            question = list_item.find('a').get_text()\n",
    "            # create soup object for individual questions\n",
    "            question_data, question_soup = create_soup(question_link)\n",
    "            # returns answer and keeps the proper html formatting\n",
    "            answer = question_soup.find('div',{'id':'main-content'}).decode_contents()\n",
    "            qa[idx] = {\n",
    "                'question': question,\n",
    "                'answer': answer,\n",
    "                'question_link' : question_link\n",
    "            }\n",
    "        topics[j.get_text()] = qa"
   ]
  },
  {
   "cell_type": "code",
   "execution_count": 181,
   "metadata": {},
   "outputs": [
    {
     "data": {
      "text/plain": [
       "dict_keys(['advanced-standing', 'application', 'broaderimpacts', 'cci-research-office', 'change', 'committee', 'concentration', 'course-substitution', 'covid-19', 'degreeworks', 'dropbox', 'early-entry', 'fellowships', 'file-list', 'first-semester', 'gpetition', 'grades', 'graduation', 'gre', 'internship', 'ip', 'jobs', 'jr-mentoring', 'late', 'nsf-career', 'paper', 'qualifying-exam', 'register', 'research', 'transfer-credits', 'ug-research', 'z-coming-soon'])"
      ]
     },
     "execution_count": 181,
     "metadata": {},
     "output_type": "execute_result"
    }
   ],
   "source": [
    "topics.keys()"
   ]
  },
  {
   "cell_type": "code",
   "execution_count": 188,
   "metadata": {},
   "outputs": [
    {
     "data": {
      "text/plain": [
       "{0: {'question': \"What's different about transfer credits from Advanced Standing?\",\n",
       "  'answer': '\\n<p>With advanced standing,</p><ul><li>You must have a master\\'s degree in Computer Science, Software Information Systems, or Computer Engineering.</li><li>Advanced standing applies only to the Computer Science or Software Information Systems Track only.</li><li>You cannot transfer any credits</li><li>However, you only have 42 credits left to go on your degree.\\xa0 Which is 30 credits less than the normal 72 credits</li><li>Other than declaring the advanced standing during the application process, no other actions are needed.</li><li>You must complete your qualifying exam after your first year in the program.</li></ul><p>With transfer credits,</p><ul><li>You can transfer up to 30 credits hours</li><li>You must file paperwork\\xa0→ see\\xa0<a href=\"/pages/viewpage.action?pageId=41911723\">I want to transfer coursework from my MS into my PhD program, what do I do?</a></li></ul>\\n',\n",
       "  'question_link': 'https://spaces.charlotte.edu/pages/viewpage.action?pageId=49028575'}}"
      ]
     },
     "execution_count": 188,
     "metadata": {},
     "output_type": "execute_result"
    }
   ],
   "source": [
    "topics['advanced-standing']"
   ]
  },
  {
   "cell_type": "code",
   "execution_count": 216,
   "metadata": {},
   "outputs": [],
   "source": [
    "with open(os.path.join(os.getcwd(), 'cci-scrape.json'), 'w') as f:\n",
    "    json.dump(topics, f, indent=4)"
   ]
  },
  {
   "cell_type": "code",
   "execution_count": 200,
   "metadata": {},
   "outputs": [],
   "source": [
    "df = pd.DataFrame(columns=['topic','question','answer','link'])"
   ]
  },
  {
   "cell_type": "code",
   "execution_count": 195,
   "metadata": {},
   "outputs": [],
   "source": [
    "topic = []\n",
    "question = []\n",
    "answer = []\n",
    "link = []\n",
    "\n",
    "for topic_key in topics.keys():\n",
    "    for question_key in topics[topic_key].keys():\n",
    "        question.append(topics[topic_key][question_key]['question'])\n",
    "        answer.append(topics[topic_key][question_key]['answer'])\n",
    "        link.append(topics[topic_key][question_key]['question_link'])\n",
    "        topic.append(topic_key)"
   ]
  },
  {
   "cell_type": "code",
   "execution_count": 201,
   "metadata": {},
   "outputs": [],
   "source": [
    "df['topic'] = topic\n",
    "df['question'] = question\n",
    "df['answer'] = answer\n",
    "df['link'] = link"
   ]
  },
  {
   "cell_type": "code",
   "execution_count": 209,
   "metadata": {},
   "outputs": [
    {
     "data": {
      "text/html": [
       "<div>\n",
       "<style scoped>\n",
       "    .dataframe tbody tr th:only-of-type {\n",
       "        vertical-align: middle;\n",
       "    }\n",
       "\n",
       "    .dataframe tbody tr th {\n",
       "        vertical-align: top;\n",
       "    }\n",
       "\n",
       "    .dataframe thead th {\n",
       "        text-align: right;\n",
       "    }\n",
       "</style>\n",
       "<table border=\"1\" class=\"dataframe\">\n",
       "  <thead>\n",
       "    <tr style=\"text-align: right;\">\n",
       "      <th></th>\n",
       "      <th>topic</th>\n",
       "      <th>question</th>\n",
       "      <th>answer</th>\n",
       "      <th>link</th>\n",
       "    </tr>\n",
       "  </thead>\n",
       "  <tbody>\n",
       "    <tr>\n",
       "      <th>count</th>\n",
       "      <td>75</td>\n",
       "      <td>75</td>\n",
       "      <td>75</td>\n",
       "      <td>75</td>\n",
       "    </tr>\n",
       "    <tr>\n",
       "      <th>unique</th>\n",
       "      <td>31</td>\n",
       "      <td>69</td>\n",
       "      <td>69</td>\n",
       "      <td>69</td>\n",
       "    </tr>\n",
       "    <tr>\n",
       "      <th>top</th>\n",
       "      <td>early-entry</td>\n",
       "      <td>What's different about transfer credits from A...</td>\n",
       "      <td>\\n&lt;p&gt;With advanced standing,&lt;/p&gt;&lt;ul&gt;&lt;li&gt;You mu...</td>\n",
       "      <td>https://spaces.charlotte.edu/pages/viewpage.ac...</td>\n",
       "    </tr>\n",
       "    <tr>\n",
       "      <th>freq</th>\n",
       "      <td>10</td>\n",
       "      <td>2</td>\n",
       "      <td>2</td>\n",
       "      <td>2</td>\n",
       "    </tr>\n",
       "  </tbody>\n",
       "</table>\n",
       "</div>"
      ],
      "text/plain": [
       "              topic                                           question  \\\n",
       "count            75                                                 75   \n",
       "unique           31                                                 69   \n",
       "top     early-entry  What's different about transfer credits from A...   \n",
       "freq             10                                                  2   \n",
       "\n",
       "                                                   answer  \\\n",
       "count                                                  75   \n",
       "unique                                                 69   \n",
       "top     \\n<p>With advanced standing,</p><ul><li>You mu...   \n",
       "freq                                                    2   \n",
       "\n",
       "                                                     link  \n",
       "count                                                  75  \n",
       "unique                                                 69  \n",
       "top     https://spaces.charlotte.edu/pages/viewpage.ac...  \n",
       "freq                                                    2  "
      ]
     },
     "execution_count": 209,
     "metadata": {},
     "output_type": "execute_result"
    }
   ],
   "source": [
    "df.describe()"
   ]
  },
  {
   "cell_type": "code",
   "execution_count": 210,
   "metadata": {},
   "outputs": [
    {
     "data": {
      "text/html": [
       "<div>\n",
       "<style scoped>\n",
       "    .dataframe tbody tr th:only-of-type {\n",
       "        vertical-align: middle;\n",
       "    }\n",
       "\n",
       "    .dataframe tbody tr th {\n",
       "        vertical-align: top;\n",
       "    }\n",
       "\n",
       "    .dataframe thead th {\n",
       "        text-align: right;\n",
       "    }\n",
       "</style>\n",
       "<table border=\"1\" class=\"dataframe\">\n",
       "  <thead>\n",
       "    <tr style=\"text-align: right;\">\n",
       "      <th></th>\n",
       "      <th>topic</th>\n",
       "      <th>question</th>\n",
       "      <th>answer</th>\n",
       "      <th>link</th>\n",
       "    </tr>\n",
       "  </thead>\n",
       "  <tbody>\n",
       "    <tr>\n",
       "      <th>0</th>\n",
       "      <td>advanced-standing</td>\n",
       "      <td>What's different about transfer credits from A...</td>\n",
       "      <td>\\n&lt;p&gt;With advanced standing,&lt;/p&gt;&lt;ul&gt;&lt;li&gt;You mu...</td>\n",
       "      <td>https://spaces.charlotte.edu/pages/viewpage.ac...</td>\n",
       "    </tr>\n",
       "    <tr>\n",
       "      <th>1</th>\n",
       "      <td>application</td>\n",
       "      <td>I am having a lot of problems with my applicat...</td>\n",
       "      <td>\\n&lt;p&gt;For all application questions, please&lt;/p&gt;...</td>\n",
       "      <td>https://spaces.charlotte.edu/pages/viewpage.ac...</td>\n",
       "    </tr>\n",
       "    <tr>\n",
       "      <th>2</th>\n",
       "      <td>application</td>\n",
       "      <td>I'm interested in applying to CIS PhD program....</td>\n",
       "      <td>\\n&lt;p&gt;Admission is competitive. Preference is g...</td>\n",
       "      <td>https://spaces.charlotte.edu/pages/viewpage.ac...</td>\n",
       "    </tr>\n",
       "    <tr>\n",
       "      <th>3</th>\n",
       "      <td>broaderimpacts</td>\n",
       "      <td>What are some activities to consider for broad...</td>\n",
       "      <td>\\n&lt;p&gt;Refer to &lt;a class=\"external-link\" href=\"h...</td>\n",
       "      <td>https://spaces.charlotte.edu/pages/viewpage.ac...</td>\n",
       "    </tr>\n",
       "    <tr>\n",
       "      <th>4</th>\n",
       "      <td>cci-research-office</td>\n",
       "      <td>I need help with my external funding.  Who sho...</td>\n",
       "      <td>\\n&lt;div class=\"table-wrap\"&gt;&lt;table class=\"relati...</td>\n",
       "      <td>https://spaces.charlotte.edu/pages/viewpage.ac...</td>\n",
       "    </tr>\n",
       "  </tbody>\n",
       "</table>\n",
       "</div>"
      ],
      "text/plain": [
       "                 topic                                           question  \\\n",
       "0    advanced-standing  What's different about transfer credits from A...   \n",
       "1          application  I am having a lot of problems with my applicat...   \n",
       "2          application  I'm interested in applying to CIS PhD program....   \n",
       "3       broaderimpacts  What are some activities to consider for broad...   \n",
       "4  cci-research-office  I need help with my external funding.  Who sho...   \n",
       "\n",
       "                                              answer  \\\n",
       "0  \\n<p>With advanced standing,</p><ul><li>You mu...   \n",
       "1  \\n<p>For all application questions, please</p>...   \n",
       "2  \\n<p>Admission is competitive. Preference is g...   \n",
       "3  \\n<p>Refer to <a class=\"external-link\" href=\"h...   \n",
       "4  \\n<div class=\"table-wrap\"><table class=\"relati...   \n",
       "\n",
       "                                                link  \n",
       "0  https://spaces.charlotte.edu/pages/viewpage.ac...  \n",
       "1  https://spaces.charlotte.edu/pages/viewpage.ac...  \n",
       "2  https://spaces.charlotte.edu/pages/viewpage.ac...  \n",
       "3  https://spaces.charlotte.edu/pages/viewpage.ac...  \n",
       "4  https://spaces.charlotte.edu/pages/viewpage.ac...  "
      ]
     },
     "execution_count": 210,
     "metadata": {},
     "output_type": "execute_result"
    }
   ],
   "source": [
    "df.head()"
   ]
  },
  {
   "cell_type": "code",
   "execution_count": null,
   "metadata": {},
   "outputs": [],
   "source": []
  }
 ],
 "metadata": {
  "interpreter": {
   "hash": "f0c2e40c46269d8127bac31c6a584bbd55fe24ecad7d6060206e4e1ebbdb64f9"
  },
  "kernelspec": {
   "display_name": "Python 3.8.5 ('venv': venv)",
   "language": "python",
   "name": "python3"
  },
  "language_info": {
   "codemirror_mode": {
    "name": "ipython",
    "version": 3
   },
   "file_extension": ".py",
   "mimetype": "text/x-python",
   "name": "python",
   "nbconvert_exporter": "python",
   "pygments_lexer": "ipython3",
   "version": "3.8.5"
  },
  "orig_nbformat": 4
 },
 "nbformat": 4,
 "nbformat_minor": 2
}
