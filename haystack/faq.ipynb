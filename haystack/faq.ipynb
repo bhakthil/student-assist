{
 "cells": [
  {
   "cell_type": "code",
   "execution_count": 3,
   "metadata": {},
   "outputs": [
    {
     "name": "stdout",
     "output_type": "stream",
     "text": [
      "Enabling notebook extension jupyter-js-widgets/extension...\n",
      "      - Validating: \u001b[32mOK\u001b[0m\n"
     ]
    }
   ],
   "source": [
    "# Enable jupyter widgets\n",
    "!jupyter nbextension enable --py widgetsnbextension"
   ]
  },
  {
   "cell_type": "code",
   "execution_count": 2,
   "metadata": {},
   "outputs": [],
   "source": [
    "from haystack.document_stores import ElasticsearchDocumentStore\n",
    "\n",
    "from haystack.nodes import EmbeddingRetriever\n",
    "import pandas as pd"
   ]
  },
  {
   "cell_type": "code",
   "execution_count": 4,
   "metadata": {},
   "outputs": [
    {
     "name": "stdout",
     "output_type": "stream",
     "text": [
      "60dff4dba8f83cd63bae26e9d8c9ae222a011d19c3d395e2209d9d0128714397\n"
     ]
    }
   ],
   "source": [
    "# Recommended: Start Elasticsearch using Docker via the Haystack utility function\n",
    "from haystack.utils import launch_es\n",
    "\n",
    "launch_es()"
   ]
  },
  {
   "cell_type": "code",
   "execution_count": 6,
   "metadata": {},
   "outputs": [],
   "source": [
    "from haystack.document_stores import ElasticsearchDocumentStore\n",
    "\n",
    "document_store = ElasticsearchDocumentStore(\n",
    "    host=\"localhost\",\n",
    "    username=\"\",\n",
    "    password=\"\",\n",
    "    index=\"document\",\n",
    "    embedding_field=\"question_emb\",\n",
    "    embedding_dim=384,\n",
    "    excluded_meta_data=[\"question_emb\"],\n",
    ")"
   ]
  },
  {
   "cell_type": "code",
   "execution_count": 7,
   "metadata": {},
   "outputs": [],
   "source": [
    "# load scraped web data\n",
    "import json\n",
    "with open('../cci-scrape/cci-scrape.json', 'r') as f:\n",
    "    data = json.loads(f.read())"
   ]
  },
  {
   "cell_type": "code",
   "execution_count": 8,
   "metadata": {},
   "outputs": [
    {
     "name": "stderr",
     "output_type": "stream",
     "text": [
      "INFO - haystack.modeling.utils -  Using devices: CPU\n",
      "INFO - haystack.modeling.utils -  Number of GPUs: 0\n",
      "INFO - haystack.nodes.retriever.dense -  Init retriever using embeddings of model sentence-transformers/all-MiniLM-L6-v2\n",
      "INFO - haystack.modeling.utils -  Using devices: CPU\n",
      "INFO - haystack.modeling.utils -  Number of GPUs: 0\n",
      "INFO - haystack.modeling.model.language_model -  LOADING MODEL\n",
      "INFO - haystack.modeling.model.language_model -  =============\n",
      "INFO - haystack.modeling.model.language_model -  Could not find sentence-transformers/all-MiniLM-L6-v2 locally.\n",
      "INFO - haystack.modeling.model.language_model -  Looking on Transformers Model Hub (in local cache and online)...\n",
      "INFO - haystack.modeling.model.language_model -  Loaded sentence-transformers/all-MiniLM-L6-v2\n",
      "INFO - haystack.modeling.data_handler.processor -  Initialized processor without tasks. Supply `metric` and `label_list` to the constructor for using the default task or add a custom task later via processor.add_task()\n",
      "INFO - haystack.modeling.logger -  ML Logging is turned off. No parameters, metrics or artifacts will be logged to MLFlow.\n",
      "INFO - haystack.modeling.utils -  Using devices: CPU\n",
      "INFO - haystack.modeling.utils -  Number of GPUs: 0\n",
      "WARNING - haystack.nodes.retriever._embedding_encoder -  You seem to be using a Sentence Transformer with the dot_product function. We recommend using cosine instead. This can be set when initializing the DocumentStore\n"
     ]
    }
   ],
   "source": [
    "retriever = EmbeddingRetriever(\n",
    "    document_store=document_store, embedding_model=\"sentence-transformers/all-MiniLM-L6-v2\", use_gpu=False\n",
    ")"
   ]
  },
  {
   "cell_type": "code",
   "execution_count": 9,
   "metadata": {},
   "outputs": [],
   "source": [
    "df = pd.DataFrame(columns=['topic','question','answer','link'])\n",
    "topic = []\n",
    "question = []\n",
    "answer = []\n",
    "link = []\n",
    "\n",
    "for topic_key in data.keys():\n",
    "    for question_key in data[topic_key].keys():\n",
    "        question.append(data[topic_key][question_key]['question'])\n",
    "        answer.append(data[topic_key][question_key]['answer'])\n",
    "        link.append(data[topic_key][question_key]['question_link'])\n",
    "        topic.append(topic_key)\n",
    "\n",
    "df['topic'] = topic\n",
    "df['question'] = question\n",
    "df['answer'] = answer\n",
    "df['link'] = link"
   ]
  },
  {
   "cell_type": "code",
   "execution_count": 10,
   "metadata": {},
   "outputs": [],
   "source": [
    "df.to_csv('faq.csv', sep=',', encoding='utf-8', index=False)"
   ]
  },
  {
   "cell_type": "code",
   "execution_count": 11,
   "metadata": {},
   "outputs": [
    {
     "name": "stdout",
     "output_type": "stream",
     "text": [
      "                 topic  \\\n",
      "0    advanced-standing   \n",
      "1          application   \n",
      "2          application   \n",
      "3       broaderimpacts   \n",
      "4  cci-research-office   \n",
      "\n",
      "                                                                  question  \\\n",
      "0          What's different about transfer credits from Advanced Standing?   \n",
      "1  I am having a lot of problems with my application.  Whom can I contact?   \n",
      "2   I'm interested in applying to CIS PhD program.  What should I do next?   \n",
      "3                What are some activities to consider for broader impacts?   \n",
      "4             I need help with my external funding.  Who should I contact?   \n",
      "\n",
      "                                                                            answer  \\\n",
      "0  \\n<p>With advanced standing,</p><ul><li>You must have a master's degree in C...   \n",
      "1  \\n<p>For all application questions, please</p><ol><li>For the fastest respon...   \n",
      "2  \\n<p>Admission is competitive. Preference is given to applicants with strong...   \n",
      "3  \\n<p>Refer to <a class=\"external-link\" href=\"https://docs.google.com/spreads...   \n",
      "4  \\n<div class=\"table-wrap\"><table class=\"relative-table wrapped confluenceTab...   \n",
      "\n",
      "                                                                 link  \n",
      "0  https://spaces.charlotte.edu/pages/viewpage.action?pageId=49028575  \n",
      "1  https://spaces.charlotte.edu/pages/viewpage.action?pageId=44174949  \n",
      "2  https://spaces.charlotte.edu/pages/viewpage.action?pageId=41911379  \n",
      "3  https://spaces.charlotte.edu/pages/viewpage.action?pageId=56624601  \n",
      "4  https://spaces.charlotte.edu/pages/viewpage.action?pageId=55182656  \n",
      "huggingface/tokenizers: The current process just got forked, after parallelism has already been used. Disabling parallelism to avoid deadlocks...\n",
      "To disable this warning, you can either:\n",
      "\t- Avoid using `tokenizers` before the fork if possible\n",
      "\t- Explicitly set the environment variable TOKENIZERS_PARALLELISM=(true | false)\n"
     ]
    },
    {
     "name": "stderr",
     "output_type": "stream",
     "text": [
      "Inferencing Samples: 100%|██████████| 3/3 [00:20<00:00,  6.81s/ Batches]\n"
     ]
    }
   ],
   "source": [
    "# Get dataframe with columns \"question\", \"answer\" and some custom metadata\n",
    "df = pd.read_csv(\"faq.csv\")\n",
    "print(df.head())\n",
    "\n",
    "# Get embeddings for our questions from the FAQs\n",
    "questions = list(df[\"question\"].values)\n",
    "df[\"question_emb\"] = retriever.embed_queries(texts=questions)\n",
    "df = df.rename(columns={\"question\": \"content\"})\n",
    "\n",
    "# Convert Dataframe to list of dicts and index them in our DocumentStore\n",
    "docs_to_index = df.to_dict(orient=\"records\")\n",
    "document_store.write_documents(docs_to_index)"
   ]
  },
  {
   "cell_type": "code",
   "execution_count": 12,
   "metadata": {},
   "outputs": [],
   "source": [
    "from haystack.pipelines import FAQPipeline\n",
    "\n",
    "pipe = FAQPipeline(retriever=retriever)"
   ]
  },
  {
   "cell_type": "code",
   "execution_count": 13,
   "metadata": {},
   "outputs": [
    {
     "name": "stderr",
     "output_type": "stream",
     "text": [
      "Inferencing Samples: 100%|██████████| 1/1 [00:00<00:00,  3.48 Batches/s]\n"
     ]
    },
    {
     "name": "stdout",
     "output_type": "stream",
     "text": [
      "\n",
      "Query: What's different about transfer credits and advanced standing?\n",
      "Answers:\n",
      "[   {   'answer': '\\n'\n",
      "                  '<p>With advanced standing,</p><ul><li>You must have a '\n",
      "                  \"master's degree in Computer Science, Software Information \"\n",
      "                  'Systems, or Computer Engineering.</li><li>Advanced standing '\n",
      "                  'applies only to the Computer Science or Software '\n",
      "                  'Information Systems Track only.</li><li>You cannot transfer '\n",
      "                  'any credits</li><li>However, you only have 42 credits left '\n",
      "                  'to go on your degree.\\xa0 Which is 30 credits less than the '\n",
      "                  'normal 72 credits</li><li>Other than declaring the advanced '\n",
      "                  'standing during the application process, no other actions '\n",
      "                  'are needed.</li><li>You must complete your qualifying exam '\n",
      "                  'after your first year in the program.</li></ul><p>With '\n",
      "                  'transfer credits,</p><ul><li>You can transfer up to 30 '\n",
      "                  'credits hours</li><li>You must file paperwork\\xa0→ see\\xa0'\n",
      "                  '<a href=\"/pages/viewpage.action?pageId=41911723\">I want to '\n",
      "                  'transfer coursework from my MS into my PhD program, what do '\n",
      "                  'I do?</a></li></ul>\\n',\n",
      "        'context': '\\n'\n",
      "                   '<p>With advanced standing,</p><ul><li>You must have a '\n",
      "                   \"master's degree in Computer Science, Software Information \"\n",
      "                   'Systems, or Computer Engineering.</li><li>Advanced '\n",
      "                   'standing applies only to the Computer Science or Software '\n",
      "                   'Information Systems Track only.</li><li>You cannot '\n",
      "                   'transfer any credits</li><li>However, you only have 42 '\n",
      "                   'credits left to go on your degree.\\xa0 Which is 30 credits '\n",
      "                   'less than the normal 72 credits</li><li>Other than '\n",
      "                   'declaring the advanced standing during the application '\n",
      "                   'process, no other actions are needed.</li><li>You must '\n",
      "                   'complete your qualifying exam after your first year in the '\n",
      "                   'program.</li></ul><p>With transfer credits,</p><ul><li>You '\n",
      "                   'can transfer up to 30 credits hours</li><li>You must file '\n",
      "                   'paperwork\\xa0→ see\\xa0<a '\n",
      "                   'href=\"/pages/viewpage.action?pageId=41911723\">I want to '\n",
      "                   'transfer coursework from my MS into my PhD program, what '\n",
      "                   'do I do?</a></li></ul>\\n',\n",
      "        'score': 0.5718783720918734},\n",
      "    {   'answer': '\\n'\n",
      "                  '<h2 '\n",
      "                  'id=\"HowmanycreditscanItransferfromMSdegrees?-Insummary\">In '\n",
      "                  'summary</h2><ul><li>If you are on Advanced Standing '\n",
      "                  'track\\xa0→ 0 credits</li><li>Else → max of 30 credit '\n",
      "                  'hours</li><li>Students must file a written request to the '\n",
      "                  'Track coordinators<ul><li>Follow\\xa0→\\xa0<a '\n",
      "                  'href=\"/pages/viewpage.action?pageId=41911723\">I want to '\n",
      "                  'transfer coursework from my MS into my\\xa0PhD\\xa0program, '\n",
      "                  'what do I do?</a></li><li>Check\\xa0→\\xa0<a '\n",
      "                  'href=\"/pages/viewpage.action?pageId=41912187\">Who are the '\n",
      "                  'track coordinators? Who is the\\xa0PhD\\xa0program '\n",
      "                  'director?</a></li></ul></li></ul><h2 '\n",
      "                  'id=\"HowmanycreditscanItransferfromMSdegrees?-Formoredetails\">For '\n",
      "                  'more details</h2><ul><li><p>CIS PhD\\xa0catalog →\\xa0<a '\n",
      "                  'class=\"external-link\" '\n",
      "                  'href=\"https://catalog.uncc.edu/preview_program.php?catoid=19&amp;poid=3813\" '\n",
      "                  'rel=\"nofollow\" style=\"font-size: 14.0px;letter-spacing: '\n",
      "                  '0.0px;\">https://catalog.uncc.edu/preview_program.php?catoid=19&amp;poid=3813</a></p></li><li><p>Grad '\n",
      "                  'school catalog →\\xa0<a class=\"external-link\" '\n",
      "                  'href=\"https://catalog.uncc.edu/content.php?catoid=19&amp;navoid=1119\" '\n",
      "                  'rel=\"nofollow\" style=\"letter-spacing: '\n",
      "                  '0.0px;\">https://catalog.uncc.edu/content.php?catoid=19&amp;navoid=1119</a></p></li></ul>\\n',\n",
      "        'context': '\\n'\n",
      "                   '<h2 '\n",
      "                   'id=\"HowmanycreditscanItransferfromMSdegrees?-Insummary\">In '\n",
      "                   'summary</h2><ul><li>If you are on Advanced Standing '\n",
      "                   'track\\xa0→ 0 credits</li><li>Else → max of 30 credit '\n",
      "                   'hours</li><li>Students must file a written request to the '\n",
      "                   'Track coordinators<ul><li>Follow\\xa0→\\xa0<a '\n",
      "                   'href=\"/pages/viewpage.action?pageId=41911723\">I want to '\n",
      "                   'transfer coursework from my MS into my\\xa0PhD\\xa0program, '\n",
      "                   'what do I do?</a></li><li>Check\\xa0→\\xa0<a '\n",
      "                   'href=\"/pages/viewpage.action?pageId=41912187\">Who are the '\n",
      "                   'track coordinators? Who is the\\xa0PhD\\xa0program '\n",
      "                   'director?</a></li></ul></li></ul><h2 '\n",
      "                   'id=\"HowmanycreditscanItransferfromMSdegrees?-Formoredetails\">For '\n",
      "                   'more details</h2><ul><li><p>CIS PhD\\xa0catalog →\\xa0<a '\n",
      "                   'class=\"external-link\" '\n",
      "                   'href=\"https://catalog.uncc.edu/preview_program.php?catoid=19&amp;poid=3813\" '\n",
      "                   'rel=\"nofollow\" style=\"font-size: 14.0px;letter-spacing: '\n",
      "                   '0.0px;\">https://catalog.uncc.edu/preview_program.php?catoid=19&amp;poid=3813</a></p></li><li><p>Grad '\n",
      "                   'school catalog →\\xa0<a class=\"external-link\" '\n",
      "                   'href=\"https://catalog.uncc.edu/content.php?catoid=19&amp;navoid=1119\" '\n",
      "                   'rel=\"nofollow\" style=\"letter-spacing: '\n",
      "                   '0.0px;\">https://catalog.uncc.edu/content.php?catoid=19&amp;navoid=1119</a></p></li></ul>\\n',\n",
      "        'score': 0.5505719815173103},\n",
      "    {   'answer': '\\n'\n",
      "                  '<ul><li>Who is this for?<ul><li>students who have already '\n",
      "                  \"earned a Master's degree in select disciplines<ul><li>As of \"\n",
      "                  '2019/1/8,\\xa0<ul><li>Computer Science</li><li>Software and '\n",
      "                  'Information Systems</li><li>Computer '\n",
      "                  'Engineering</li></ul></li></ul></li><li>available to CS and '\n",
      "                  'SIS track</li></ul></li><li>Where can I get more '\n",
      "                  'information?<ul><li>Please check the <a '\n",
      "                  'class=\"external-link\" '\n",
      "                  'href=\"https://catalog.uncc.edu/preview_program.php?catoid=23&amp;poid=5581\" '\n",
      "                  'rel=\"nofollow\">Graduate Catalog</a> and search for '\n",
      "                  '\"Advanced Standing\".\\xa0\\xa0</li></ul></li><li>What happens '\n",
      "                  'if I get on the advanced standing?\\xa0\\xa0'\n",
      "                  '<ul><li><strong>Please read the graduate catalog '\n",
      "                  'thoroughly.</strong></li><li>Some items to note (but not '\n",
      "                  'all of them) includes<ul><li>You will only have 42 credits '\n",
      "                  'hours to go</li><li>You cannot transfer any '\n",
      "                  'credits.</li><li>Your GASP will be reduced to 4 years '\n",
      "                  'rather than 5.</li><li>You will have to take the qualifying '\n",
      "                  'exam before the end of the first year in the doctoral '\n",
      "                  'program.</li></ul></li></ul></li></ul>\\n',\n",
      "        'context': '\\n'\n",
      "                   '<ul><li>Who is this for?<ul><li>students who have already '\n",
      "                   \"earned a Master's degree in select disciplines<ul><li>As \"\n",
      "                   'of 2019/1/8,\\xa0<ul><li>Computer Science</li><li>Software '\n",
      "                   'and Information Systems</li><li>Computer '\n",
      "                   'Engineering</li></ul></li></ul></li><li>available to CS '\n",
      "                   'and SIS track</li></ul></li><li>Where can I get more '\n",
      "                   'information?<ul><li>Please check the <a '\n",
      "                   'class=\"external-link\" '\n",
      "                   'href=\"https://catalog.uncc.edu/preview_program.php?catoid=23&amp;poid=5581\" '\n",
      "                   'rel=\"nofollow\">Graduate Catalog</a> and search for '\n",
      "                   '\"Advanced Standing\".\\xa0\\xa0</li></ul></li><li>What '\n",
      "                   'happens if I get on the advanced standing?\\xa0\\xa0'\n",
      "                   '<ul><li><strong>Please read the graduate catalog '\n",
      "                   'thoroughly.</strong></li><li>Some items to note (but not '\n",
      "                   'all of them) includes<ul><li>You will only have 42 credits '\n",
      "                   'hours to go</li><li>You cannot transfer any '\n",
      "                   'credits.</li><li>Your GASP will be reduced to 4 years '\n",
      "                   'rather than 5.</li><li>You will have to take the '\n",
      "                   'qualifying exam before the end of the first year in the '\n",
      "                   'doctoral program.</li></ul></li></ul></li></ul>\\n',\n",
      "        'score': 0.5464153526318166}]\n"
     ]
    }
   ],
   "source": [
    "from haystack.utils import print_answers\n",
    "\n",
    "prediction = pipe.run(query=\"What's different about transfer credits and advanced standing?\", params={\"Retriever\":{\"top_k\":3}})\n",
    "print_answers(prediction, details='medium')"
   ]
  },
  {
   "cell_type": "code",
   "execution_count": 14,
   "metadata": {},
   "outputs": [
    {
     "name": "stderr",
     "output_type": "stream",
     "text": [
      "Inferencing Samples: 100%|██████████| 1/1 [00:00<00:00,  4.23 Batches/s]"
     ]
    },
    {
     "name": "stdout",
     "output_type": "stream",
     "text": [
      "\n",
      "Query: Who should I contact for help with external funding?\n",
      "Answers:\n",
      "[   {   'answer': '\\n'\n",
      "                  '<div class=\"table-wrap\"><table class=\"relative-table '\n",
      "                  'wrapped confluenceTable\" style=\"width: '\n",
      "                  '66.2512%;\"><colgroup><col style=\"width: 31.7391%;\"/><col '\n",
      "                  'style=\"width: 68.2609%;\"/></colgroup><tbody><tr><th '\n",
      "                  'class=\"confluenceTh\">Questions</th><th '\n",
      "                  'class=\"confluenceTh\">Whom to contact</th></tr><tr><td '\n",
      "                  'class=\"confluenceTd\">For spending external funds</td><td '\n",
      "                  'class=\"confluenceTd\"><p>Contact Caroline '\n",
      "                  'Kennedy</p></td></tr><tr><td class=\"confluenceTd\">For '\n",
      "                  'preparing new submissions</td><td '\n",
      "                  'class=\"confluenceTd\">Contact Audrey '\n",
      "                  'Callahan</td></tr></tbody></table></div>\\n',\n",
      "        'context': '\\n'\n",
      "                   '<div class=\"table-wrap\"><table class=\"relative-table '\n",
      "                   'wrapped confluenceTable\" style=\"width: '\n",
      "                   '66.2512%;\"><colgroup><col style=\"width: 31.7391%;\"/><col '\n",
      "                   'style=\"width: 68.2609%;\"/></colgroup><tbody><tr><th '\n",
      "                   'class=\"confluenceTh\">Questions</th><th '\n",
      "                   'class=\"confluenceTh\">Whom to contact</th></tr><tr><td '\n",
      "                   'class=\"confluenceTd\">For spending external funds</td><td '\n",
      "                   'class=\"confluenceTd\"><p>Contact Caroline '\n",
      "                   'Kennedy</p></td></tr><tr><td class=\"confluenceTd\">For '\n",
      "                   'preparing new submissions</td><td '\n",
      "                   'class=\"confluenceTd\">Contact Audrey '\n",
      "                   'Callahan</td></tr></tbody></table></div>\\n',\n",
      "        'score': 0.5889256871841801},\n",
      "    {   'answer': '\\n'\n",
      "                  '<p><strong>What:\\xa0</strong>Workshops on\\xa0<strong>how to '\n",
      "                  'find fellowships</strong>.</p><p><strong>Who:</strong> '\n",
      "                  'Center for Graduate Life (<a class=\"external-link\" '\n",
      "                  'href=\"https://gradlife.uncc.edu/\" '\n",
      "                  'rel=\"nofollow\">https://gradlife.uncc.edu/</a>)\\xa0'\n",
      "                  '</p><p><strong>When:\\xa0\\xa0</strong>Tentatively, they are '\n",
      "                  'scheduled for Sept 17 and Sept 28, 2018.\\xa0 Please confirm '\n",
      "                  'on\\xa0<a class=\"external-link\" '\n",
      "                  'href=\"https://gradlife.uncc.edu/events\" '\n",
      "                  'rel=\"nofollow\">https://gradlife.uncc.edu/events</a>\\xa0'\n",
      "                  '</p><p><br/></p>\\n',\n",
      "        'context': '\\n'\n",
      "                   '<p><strong>What:\\xa0</strong>Workshops on\\xa0<strong>how '\n",
      "                   'to find fellowships</strong>.</p><p><strong>Who:</strong> '\n",
      "                   'Center for Graduate Life (<a class=\"external-link\" '\n",
      "                   'href=\"https://gradlife.uncc.edu/\" '\n",
      "                   'rel=\"nofollow\">https://gradlife.uncc.edu/</a>)\\xa0'\n",
      "                   '</p><p><strong>When:\\xa0\\xa0</strong>Tentatively, they are '\n",
      "                   'scheduled for Sept 17 and Sept 28, 2018.\\xa0 Please '\n",
      "                   'confirm on\\xa0<a class=\"external-link\" '\n",
      "                   'href=\"https://gradlife.uncc.edu/events\" '\n",
      "                   'rel=\"nofollow\">https://gradlife.uncc.edu/events</a>\\xa0'\n",
      "                   '</p><p><br/></p>\\n',\n",
      "        'score': 0.5318069906639059},\n",
      "    {   'answer': '\\n'\n",
      "                  '<p>For all application questions, please</p><ol><li>For the '\n",
      "                  'fastest response →\\xa0Go to the message board located in '\n",
      "                  'your application portal</li><li>Another option is →\\xa0'\n",
      "                  'Email\\xa0<a class=\"external-link\" '\n",
      "                  'href=\"mailto:gradcounselor@uncc.edu\" '\n",
      "                  'rel=\"nofollow\">gradcounselor@uncc.edu</a></li></ol><p><br/></p>\\n',\n",
      "        'context': '\\n'\n",
      "                   '<p>For all application questions, please</p><ol><li>For '\n",
      "                   'the fastest response →\\xa0Go to the message board located '\n",
      "                   'in your application portal</li><li>Another option is →\\xa0'\n",
      "                   'Email\\xa0<a class=\"external-link\" '\n",
      "                   'href=\"mailto:gradcounselor@uncc.edu\" '\n",
      "                   'rel=\"nofollow\">gradcounselor@uncc.edu</a></li></ol><p><br/></p>\\n',\n",
      "        'score': 0.5307795314931385}]\n"
     ]
    },
    {
     "name": "stderr",
     "output_type": "stream",
     "text": [
      "\n"
     ]
    }
   ],
   "source": [
    "prediction = pipe.run(query=\"Who should I contact for help with external funding?\", params={\"Retriever\":{\"top_k\":3}})\n",
    "print_answers(prediction, details='medium')"
   ]
  },
  {
   "cell_type": "code",
   "execution_count": null,
   "metadata": {},
   "outputs": [],
   "source": []
  }
 ],
 "metadata": {
  "interpreter": {
   "hash": "f0c2e40c46269d8127bac31c6a584bbd55fe24ecad7d6060206e4e1ebbdb64f9"
  },
  "kernelspec": {
   "display_name": "Python 3.8.5 ('venv': venv)",
   "language": "python",
   "name": "python3"
  },
  "language_info": {
   "codemirror_mode": {
    "name": "ipython",
    "version": 3
   },
   "file_extension": ".py",
   "mimetype": "text/x-python",
   "name": "python",
   "nbconvert_exporter": "python",
   "pygments_lexer": "ipython3",
   "version": "3.8.5"
  },
  "orig_nbformat": 4
 },
 "nbformat": 4,
 "nbformat_minor": 2
}
